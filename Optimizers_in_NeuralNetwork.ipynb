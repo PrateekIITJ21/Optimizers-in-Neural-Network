{
  "nbformat": 4,
  "nbformat_minor": 0,
  "metadata": {
    "colab": {
      "provenance": []
    },
    "kernelspec": {
      "display_name": "Python 3",
      "name": "python3"
    }
  },
  "cells": [
    {
      "cell_type": "code",
      "metadata": {
        "id": "FQA-lmhE8xXt"
      },
      "source": [
        "import os\n",
        "import random\n",
        "import numpy as np\n",
        "import pandas as pd\n",
        "import torch\n",
        "from torch import nn\n",
        "from torch.utils.data import DataLoader\n",
        "from torchvision import datasets, transforms\n",
        "from sklearn.preprocessing import StandardScaler\n",
        "import matplotlib.pyplot as plt\n",
        "import matplotlib.colors as colors"
      ],
      "execution_count": null,
      "outputs": []
    },
    {
      "cell_type": "code",
      "metadata": {
        "id": "Ne8qzDJO8-WU",
        "colab": {
          "base_uri": "https://localhost:8080/"
        },
        "outputId": "8f1ed6f4-43cb-42ba-8095-a2fe2ddbe313"
      },
      "source": [
        "device = 'cuda' if torch.cuda.is_available() else 'cpu'\n",
        "print(f'Using {device} device')\n"
      ],
      "execution_count": null,
      "outputs": [
        {
          "output_type": "stream",
          "name": "stdout",
          "text": [
            "Using cpu device\n"
          ]
        }
      ]
    },
    {
      "cell_type": "code",
      "metadata": {
        "id": "0xDjymPf9PNW"
      },
      "source": [
        "def test_train_split(X, y, test_size):\n",
        "    ## Splits the data set into training and test sets with test_size being the fraction of total data used for testing\n",
        "    m, _ = np.shape(X)\n",
        "    num_test = int(m * test_size)\n",
        "    test_ids = random.sample(range(m), num_test)\n",
        "    train_ids = [i for i in range(m) if i not in test_ids]\n",
        "    X_train = X[train_ids, :]\n",
        "    X_test = X[test_ids, :]\n",
        "    y_train = y[train_ids]\n",
        "    y_test = y[test_ids]\n",
        "\n",
        "    return X_train, X_test, y_train, y_test"
      ],
      "execution_count": null,
      "outputs": []
    },
    {
      "cell_type": "code",
      "metadata": {
        "id": "7gQLDsmy-Ycv",
        "colab": {
          "base_uri": "https://localhost:8080/"
        },
        "outputId": "bdf4a178-1624-47c6-c8b7-17b552d35586"
      },
      "source": [
        "class NeuralNetwork(nn.Module):\n",
        "    def __init__(self):\n",
        "        super(NeuralNetwork, self).__init__()\n",
        "        self.linear_relu_stack = nn.Sequential(\n",
        "            nn.Linear(8, 16),\n",
        "            nn.ReLU(),\n",
        "            nn.Linear(16, 1),\n",
        "            # nn.ReLU(),\n",
        "            # nn.Linear(16, 1),\n",
        "            # nn.ReLU(),\n",
        "            # nn.Linear(64,64),\n",
        "            # nn.ReLU(),\n",
        "            # nn.Linear(64,64),\n",
        "            # nn.ReLU(),\n",
        "            # nn.Linear(64,1)\n",
        "        )\n",
        "\n",
        "    def forward(self, x):\n",
        "        logits = self.linear_relu_stack(x)\n",
        "        return logits\n",
        "\n",
        "model = NeuralNetwork().to(device)\n",
        "print(model)"
      ],
      "execution_count": null,
      "outputs": [
        {
          "output_type": "stream",
          "name": "stdout",
          "text": [
            "NeuralNetwork(\n",
            "  (linear_relu_stack): Sequential(\n",
            "    (0): Linear(in_features=8, out_features=16, bias=True)\n",
            "    (1): ReLU()\n",
            "    (2): Linear(in_features=16, out_features=1, bias=True)\n",
            "  )\n",
            ")\n"
          ]
        }
      ]
    },
    {
      "cell_type": "code",
      "metadata": {
        "id": "uS8ilC3I-aO5"
      },
      "source": [
        "dataset = pd.read_csv('Concrete_Data(1).csv', delimiter = ',')\n",
        "dataset = dataset.values\n",
        "# dataset = dataset[1:,1:]\n",
        "np.random.shuffle(dataset)\n",
        "m, d = np.shape(dataset)\n",
        "scaler = StandardScaler()\n",
        "dataset = scaler.fit_transform(dataset)\n",
        "X = dataset[:,:-1]\n",
        "# X = np.c_[dataset[:, 1:], np.ones((np.size(dataset, 0), 1))]\n",
        "# X = np.c_[dataset[:, :-1], np.ones((np.size(dataset, 0), 1))]\n",
        "y = dataset[:, -1];\n",
        "\n",
        "# y = dataset[:, -1]\n",
        "# y = y.reshape((m, 1))\n",
        "# y = y + 5 * np.random.randn(m,1)\n",
        "# y = [2*(val == 'g') - 1 for val in range(len(y)) if val == 'g']\n",
        "frac_test = 0.2\n",
        "num_test = int(frac_test * m)\n",
        "num_train = m - num_test\n",
        "X_train, X_test, y_train, y_test = test_train_split(X, y , frac_test)\n",
        "X_train = torch.FloatTensor(X_train)\n",
        "X_test = torch.FloatTensor(X_test)\n",
        "y_train = torch.FloatTensor(y_train)\n",
        "y_test = torch.FloatTensor(y_test)\n",
        "# X = torch.rand(1, 10, device=device)\n",
        "# y_pred = model(X_test[0,:])\n",
        "# print(f\"Predicted values: {y_pred}\")\n",
        "#dataset"
      ],
      "execution_count": null,
      "outputs": []
    },
    {
      "cell_type": "code",
      "metadata": {
        "id": "E-wV5sUH-vwp"
      },
      "source": [
        "monte = 20\n",
        "Loss = nn.MSELoss()\n",
        "algos = ['Adam','Adagrad','RMSprop','SGD']\n",
        "epochs = 2 * 10 ** 2\n",
        "tloss = {algo: np.zeros((epochs, 1)) for algo in algos}\n",
        "eval_loss = {algo: np.zeros((epochs, 1)) for algo in algos}\n",
        "\n",
        "# tacc = {algos[i]: np.zeros((epochs, 1)) for i in range(len(algos))}\n",
        "# eval_acc = {algos[i]: np.zeros((epochs, 1)) for i in range(len(algos))}\n",
        "y_pred_train_algo = []\n",
        "y_pred_test_algo = []"
      ],
      "execution_count": null,
      "outputs": []
    },
    {
      "cell_type": "code",
      "metadata": {
        "id": "s4edhv53AGod"
      },
      "source": [
        "import numpy as np\n",
        "\n",
        "class AdamAlgo()  :\n",
        "    def __init__(self, eta = 0.01, betas = (0.9, 0.99), epsilon = 1e-8):\n",
        "        # Initialize the first and 2nd order moments\n",
        "        self.m_dtheta, self.v_dtheta = 0, 0\n",
        "        self.epsilon = epsilon\n",
        "        self.beta_1, self.beta_2 = betas[0], betas[1]\n",
        "        self.eta = eta\n",
        "\n",
        "    def update(self, t, theta, dtheta):\n",
        "        # Update the moments\n",
        "        self.m_dtheta = self.beta_1 * self.m_dtheta + (1 - self.beta_1) * dtheta\n",
        "        self.v_dtheta = self.beta_2 * self.v_dtheta + (1 - self.beta_2) * (dtheta ** 2)\n",
        "\n",
        "        # Moment corrections\n",
        "        # print(self.beta_1 ** t)\n",
        "        m_dtheta_corr = self.m_dtheta / (1 - self.beta_1 ** t)\n",
        "        v_dtheta_corr = self.v_dtheta / (1 - self.beta_2 ** t)\n",
        "\n",
        "        # Update the estimate\n",
        "        theta = theta - self.eta * np.divide(m_dtheta_corr , np.sqrt(v_dtheta_corr + self.epsilon))\n",
        "\n",
        "        return theta\n",
        "\n",
        "class AdagradAlgo()  :\n",
        "    def __init__(self, eta = 0.01, epsilon = 1e-8):\n",
        "        # Initialize the 2nd order moment\n",
        "        self.v_dtheta = 0\n",
        "        self.epsilon = epsilon\n",
        "        self.eta = eta\n",
        "\n",
        "    def update(self, t, theta, dtheta):\n",
        "        # Update the 2nd moment\n",
        "        self.v_dtheta = self.v_dtheta + (dtheta ** 2)\n",
        "\n",
        "        # Update the estimate\n",
        "        theta = theta - self.eta * np.divide(dtheta , np.sqrt(self.v_dtheta) + self.epsilon)\n",
        "\n",
        "        return theta\n",
        "\n",
        "class RMSpropAlgo()  :\n",
        "    def __init__(self, eta = 0.01, alpha = 0.99, epsilon = 1e-8):\n",
        "        # Initialize the 2nd order moment\n",
        "        self.v_dtheta = 0\n",
        "        self.epsilon = epsilon\n",
        "        self.eta = eta\n",
        "        self.alpha = alpha\n",
        "\n",
        "    def update(self, t, theta, dtheta):\n",
        "        # Update the 2nd moment\n",
        "        self.v_dtheta = self.alpha * self.v_dtheta + (1 - self.alpha) * (dtheta ** 2)\n",
        "\n",
        "        # Update the estimate\n",
        "        theta = theta - self.eta * np.divide(dtheta , np.sqrt(self.v_dtheta) + self.epsilon)\n",
        "\n",
        "        return theta\n",
        "class SGDAlgo():\n",
        "    def __init__(self, eta = 0.01):\n",
        "        self.eta = eta\n",
        "\n",
        "    def update(self, t, theta, dtheta):\n",
        "        # Update the estimate\n",
        "        theta = theta - self.eta * dtheta\n",
        "\n",
        "        return theta"
      ],
      "execution_count": null,
      "outputs": []
    },
    {
      "cell_type": "code",
      "metadata": {
        "id": "D0W34xax-8fb",
        "colab": {
          "base_uri": "https://localhost:8080/",
          "height": 252
        },
        "outputId": "4f39597d-6cf4-4f79-f8b4-516bab6da586"
      },
      "source": [
        "for algo in algos:\n",
        "    print(algo)\n",
        "    if algo == 'Adam':\n",
        "      optimizer =  AdamAlgo(eta = 0.01, betas = (0.7, 0.999), epsilon = 1e-6)\n",
        "    elif algo == 'Adagrad':\n",
        "      optimizer = AdagradAlgo(eta = 0.01, epsilon = 1e-6)\n",
        "    elif algo == 'RMSprop':\n",
        "      optimizer == RMSpropAlgo(eta = 0.01, epsilon = 1e-6)\n",
        "    elif algo == 'SGD':\n",
        "      optimizer == SGDAlgo(eta = 2 * 0.01)\n",
        "    for iter in range(monte):\n",
        "        #print(iter)\n",
        "        for t in range(epochs):\n",
        "            # print(t)\n",
        "            model.train()\n",
        "            optimizer.zero_grad()\n",
        "            batch_size = 500\n",
        "            batch = random.sample(range(num_train), batch_size)\n",
        "            # i_t = np.random.randint(0,len(y_train))\n",
        "            #Forward pass\n",
        "            y_pred_train = model(X_train[batch,:])\n",
        "            model.eval()\n",
        "            optimizer.zero_grad()\n",
        "            y_pred_test = model(X_test)\n",
        "\n",
        "            #Compute Loss\n",
        "            train_loss = Loss(y_pred_train.squeeze(), y_train[batch])\n",
        "            test_loss = Loss(y_pred_test.squeeze(), y_test)\n",
        "\n",
        "            tloss[algo][t] += train_loss.item()\n",
        "            eval_loss[algo][t] += test_loss.item()\n",
        "\n",
        "            # Backward pass\n",
        "            train_loss.backward()\n",
        "            optimizer.step()\n",
        "\n",
        "# print(tloss)\n",
        "# print(eval_loss)\n",
        "# identifiers = {algo: [] for algo in algos}\n",
        "# colors = ['r','g','b','y','m','c','i','k']\n",
        "colornames = ['r', 'g', 'b', 'm', 'y', 'k', 'c', 'indigo']\n",
        "markers = ['_','.','+','o','s','d','v','^']\n",
        "# colornames = list(colors.cnames.values())\n",
        "# for i in range(len(algos)):\n",
        "#     algo = algos[i]\n",
        "#     identifiers[algo] = [colornames[2 * i + 1 ], colornames[2 * i ]]\n",
        "i = 0\n",
        "plt.figure()\n",
        "for algo in algos:\n",
        "    plt.semilogy(range(epochs), tloss[algo] / monte, marker = '_', color = colornames[2 * i], markersize = 5, linewidth = '2', label = algo + r'Training Loss')\n",
        "    plt.semilogy(range(epochs), eval_loss[algo] / monte, marker = '_', color = colornames[2 * i + 1], linewidth = '2', markersize = 5, label = algo + r'Validation Loss')\n",
        "    i += 1\n",
        "plt.legend()\n",
        "ax = plt.gca()\n",
        "\n",
        "plt.grid()\n",
        "plt.xlabel(r'Epochs')\n",
        "plt.ylabel(r'Training and Validation Loss')\n",
        "\n"
      ],
      "execution_count": null,
      "outputs": [
        {
          "output_type": "stream",
          "name": "stdout",
          "text": [
            "Adam\n"
          ]
        },
        {
          "output_type": "error",
          "ename": "AttributeError",
          "evalue": "ignored",
          "traceback": [
            "\u001b[0;31m---------------------------------------------------------------------------\u001b[0m",
            "\u001b[0;31mAttributeError\u001b[0m                            Traceback (most recent call last)",
            "\u001b[0;32m<ipython-input-10-ed76479de8f1>\u001b[0m in \u001b[0;36m<module>\u001b[0;34m()\u001b[0m\n\u001b[1;32m     14\u001b[0m             \u001b[0;31m# print(t)\u001b[0m\u001b[0;34m\u001b[0m\u001b[0;34m\u001b[0m\u001b[0;34m\u001b[0m\u001b[0m\n\u001b[1;32m     15\u001b[0m             \u001b[0mmodel\u001b[0m\u001b[0;34m.\u001b[0m\u001b[0mtrain\u001b[0m\u001b[0;34m(\u001b[0m\u001b[0;34m)\u001b[0m\u001b[0;34m\u001b[0m\u001b[0;34m\u001b[0m\u001b[0m\n\u001b[0;32m---> 16\u001b[0;31m             \u001b[0moptimizer\u001b[0m\u001b[0;34m.\u001b[0m\u001b[0mzero_grad\u001b[0m\u001b[0;34m(\u001b[0m\u001b[0;34m)\u001b[0m\u001b[0;34m\u001b[0m\u001b[0;34m\u001b[0m\u001b[0m\n\u001b[0m\u001b[1;32m     17\u001b[0m             \u001b[0mbatch_size\u001b[0m \u001b[0;34m=\u001b[0m \u001b[0;36m500\u001b[0m\u001b[0;34m\u001b[0m\u001b[0;34m\u001b[0m\u001b[0m\n\u001b[1;32m     18\u001b[0m             \u001b[0mbatch\u001b[0m \u001b[0;34m=\u001b[0m \u001b[0mrandom\u001b[0m\u001b[0;34m.\u001b[0m\u001b[0msample\u001b[0m\u001b[0;34m(\u001b[0m\u001b[0mrange\u001b[0m\u001b[0;34m(\u001b[0m\u001b[0mnum_train\u001b[0m\u001b[0;34m)\u001b[0m\u001b[0;34m,\u001b[0m \u001b[0mbatch_size\u001b[0m\u001b[0;34m)\u001b[0m\u001b[0;34m\u001b[0m\u001b[0;34m\u001b[0m\u001b[0m\n",
            "\u001b[0;31mAttributeError\u001b[0m: 'AdamAlgo' object has no attribute 'zero_grad'"
          ]
        }
      ]
    },
    {
      "cell_type": "code",
      "metadata": {
        "id": "F4YNCUR37cWL"
      },
      "source": [],
      "execution_count": null,
      "outputs": []
    },
    {
      "cell_type": "code",
      "metadata": {
        "id": "ywLOv7cV4XCs"
      },
      "source": [
        "c1=len(y_train)\n",
        "s1=0\n",
        "\n",
        "for i in range(0,c1):\n",
        "    if(ypred[i][] == y_train[i]):\n",
        "      s1+=1\n",
        "result_01=(s1/c1*100)\n",
        "print(result_01)"
      ],
      "execution_count": null,
      "outputs": []
    },
    {
      "cell_type": "code",
      "metadata": {
        "id": "--CJVfhWHGhn"
      },
      "source": [
        "import numpy as np\n",
        "\n",
        "class AdamAlgo()  :\n",
        "    def __init__(self, eta = 0.01, betas = (0.9, 0.99), epsilon = 1e-8):\n",
        "        # Initialize the first and 2nd order moments\n",
        "        self.m_dtheta, self.v_dtheta = 0, 0\n",
        "        self.epsilon = epsilon\n",
        "        self.beta_1, self.beta_2 = betas[0], betas[1]\n",
        "        self.eta = eta\n",
        "\n",
        "    def update(self, t, theta, dtheta):\n",
        "        # Update the moments\n",
        "        self.m_dtheta = self.beta_1 * self.m_dtheta + (1 - self.beta_1) * dtheta\n",
        "        self.v_dtheta = self.beta_2 * self.v_dtheta + (1 - self.beta_2) * (dtheta ** 2)\n",
        "\n",
        "        # Moment corrections\n",
        "        # print(self.beta_1 ** t)\n",
        "        m_dtheta_corr = self.m_dtheta / (1 - self.beta_1 ** t)\n",
        "        v_dtheta_corr = self.v_dtheta / (1 - self.beta_2 ** t)\n",
        "\n",
        "        # Update the estimate\n",
        "        theta = theta - self.eta * np.divide(m_dtheta_corr , np.sqrt(v_dtheta_corr + self.epsilon))\n",
        "\n",
        "        return theta\n",
        "\n",
        "class AdagradAlgo()  :\n",
        "    def __init__(self, eta = 0.01, epsilon = 1e-8):\n",
        "        # Initialize the 2nd order moment\n",
        "        self.v_dtheta = 0\n",
        "        self.epsilon = epsilon\n",
        "        self.eta = eta\n",
        "\n",
        "    def update(self, t, theta, dtheta):\n",
        "        # Update the 2nd moment\n",
        "        self.v_dtheta = self.v_dtheta + (dtheta ** 2)\n",
        "\n",
        "        # Update the estimate\n",
        "        theta = theta - self.eta * np.divide(dtheta , np.sqrt(self.v_dtheta) + self.epsilon)\n",
        "\n",
        "        return theta\n",
        "\n",
        "class RMSpropAlgo()  :\n",
        "    def __init__(self, eta = 0.01, alpha = 0.99, epsilon = 1e-8):\n",
        "        # Initialize the 2nd order moment\n",
        "        self.v_dtheta = 0\n",
        "        self.epsilon = epsilon\n",
        "        self.eta = eta\n",
        "        self.alpha = alpha\n",
        "\n",
        "    def update(self, t, theta, dtheta):\n",
        "        # Update the 2nd moment\n",
        "        self.v_dtheta = self.alpha * self.v_dtheta + (1 - self.alpha) * (dtheta ** 2)\n",
        "\n",
        "        # Update the estimate\n",
        "        theta = theta - self.eta * np.divide(dtheta , np.sqrt(self.v_dtheta) + self.epsilon)\n",
        "\n",
        "        return theta\n",
        "class SGDAlgo():\n",
        "    def __init__(self, eta = 0.01):\n",
        "        self.eta = eta\n",
        "\n",
        "    def update(self, t, theta, dtheta):\n",
        "        # Update the estimate\n",
        "        theta = theta - self.eta * dtheta\n",
        "\n",
        "        return theta"
      ],
      "execution_count": null,
      "outputs": []
    },
    {
      "cell_type": "code",
      "metadata": {
        "id": "yyJVs69uIAxf",
        "colab": {
          "base_uri": "https://localhost:8080/",
          "height": 517
        },
        "outputId": "3d202646-2263-484d-9bd1-57d78803b936"
      },
      "source": [
        "## Test Adam, RMSprop, Adagrad and SGD for the  function f(x,y) = -2 * exp(-((x + 2)^2 + y^2)/2) - 3 * exp(-((x - 2)^2 + y^2)/2), which has local minimas at -2 and +2.\n",
        "import numpy as np\n",
        "import matplotlib.pyplot as plt\n",
        "from matplotlib.animation import FuncAnimation\n",
        "plt.style.use('ggplot')\n",
        "\n",
        "h = 1e-7\n",
        "wstar = np.array([0,0])\n",
        "wstar = np.reshape(wstar, (2,1))\n",
        "def loss_func(w):\n",
        "    x, y = w\n",
        "    ## Gaussian bumps\n",
        "    loss = -2 * np.exp(-((x + 2) ** 2 + y ** 2) / 2) - 3 * np.exp(-((x - 2) ** 2 + y ** 2) / 2)\n",
        "    ## Rastigin\n",
        "    # loss = 20 + (x ** 2 - 10 * np.cos(2* np.pi * x)) + (y ** 2 - 10 * np.cos(2 * np.pi * y))\n",
        "\n",
        "    return loss\n",
        "\n",
        "def grad(w):\n",
        "    x, y = w\n",
        "    # g = lambda x : -(x ** 2 + 1) / 2 + np.log(np.exp(x) + 2 * np.exp(-x))\n",
        "    # difg = lambda x : -x + 2 * (2 * np.exp(2 * x) - np.exp(-2 * x)) / (2 * np.exp(2 * x) + np.exp(-2 * x))\n",
        "\n",
        "    # dw = np.array([loss_func(w) * difg(x), loss_func(w) * (-y)])\n",
        "    dwx = (loss_func((x + h, y)) - loss_func((x,y))) / h\n",
        "    dwy = (loss_func((x, y + h)) - loss_func((x,y))) / h\n",
        "    dw = np.array([dwx, dwy])\n",
        "    return dw\n",
        "\n",
        "T = 1000\n",
        "\n",
        "# Initialize w\n",
        "\n",
        "\n",
        "algos = ['Adam','Adagrad','RMSprop','SGD']\n",
        "\n",
        "wseq = {algo:np.zeros((2,T)) for algo in algos}\n",
        "dwseq = {algo:np.zeros((2,T)) for algo in algos}\n",
        "msdseq = {algo:np.zeros((1,T)) for algo in algos}\n",
        "\n",
        "# adamseq = np.zeros((2,T))\n",
        "# adagradseq = np.zeros((2,T))\n",
        "# rmspropseq = np.zeros((2,T))\n",
        "# sgdseq = np.zeros((2,T))\n",
        "# w = 2 * np.random.randn(2,1)\n",
        "w = np.reshape(np.array([1,-3]), (2,1))\n",
        "# dw = grad(w)\n",
        "for algo in algos:\n",
        "    wseq[algo][:,[0]] = w\n",
        "    # dwseq[algo][:,[0]] = dw\n",
        "\n",
        "\n",
        "for t in range(0, T - 1):\n",
        "    for algo in algos:\n",
        "        if algo == 'Adam':\n",
        "            optim =  AdamAlgo(eta = 0.01, betas = (0.7, 0.999), epsilon = 1e-6)\n",
        "        elif algo == 'Adagrad':\n",
        "            optim = AdagradAlgo(eta = 0.01, epsilon = 1e-6)\n",
        "        elif algo == 'RMSprop':\n",
        "            optim == RMSpropAlgo(eta = 0.01, epsilon = 1e-6)\n",
        "        elif algo == 'SGD':\n",
        "            optim == SGDAlgo(eta = 2 * 0.01)\n",
        "\n",
        "        msdseq[algo][:,t] = np.linalg.norm(wseq[algo][:, [t]] - wstar)\n",
        "\n",
        "        wseq[algo][:, [t + 1]] = optim.update(t + 1, wseq[algo][:, [t]], dwseq[algo][:, [t]])\n",
        "        dwseq[algo][:, [t + 1]] = grad(wseq[algo][:, [t]])\n",
        "\n",
        "plt.figure()\n",
        "for algo in algos:\n",
        "    plt.semilogy(range(T), msdseq[algo][:,:].T, label = algo)\n",
        "plt.grid()\n",
        "plt.legend()\n",
        "\n",
        "xcoords = np.linspace(-4,4,50)\n",
        "ycoords = np.linspace(-4,4,50)\n",
        "\n",
        "X, Y = np.meshgrid(xcoords, ycoords)\n",
        "Z = np.zeros(np.shape(X))\n",
        "for i in range(len(xcoords)):\n",
        "    for j in range(len(ycoords)):\n",
        "        # x = xcoords[i]\n",
        "        # y = ycoords[j]\n",
        "        Z[i][j] = loss_func((X[i][j], Y[i][j]))\n",
        "\n",
        "fig, axes = plt.subplots(nrows = 1, ncols = 1)\n",
        "plt.contourf(X, Y, Z, 100, cmap = plt.cm.coolwarm)\n",
        "# plt.plot(wseq['Adam'][0,:], wseq['Adam'][1,:])\n",
        "\n",
        "axes.set_xlim(-4, 4)\n",
        "axes.set_ylim (-4, 4)\n",
        "# line, = ax.plot([], [], lw = 2)\n",
        "xdata, ydata = {algo:[] for algo in algos}, {algo:[] for algo in algos}\n",
        "c = ['r','g','b','k']\n",
        "# def init():\n",
        "#     line.set_data([],[])\n",
        "#     return line,\n",
        "\n"
      ],
      "execution_count": null,
      "outputs": [
        {
          "output_type": "display_data",
          "data": {
            "image/png": "[encoded data removed]",
            "text/plain": [
              "<Figure size 432x288 with 1 Axes>"
            ]
          },
          "metadata": {}
        },
        {
          "output_type": "display_data",
          "data": {
            "image/png": "[encoded data removed]",
            "text/plain": [
              "<Figure size 432x288 with 1 Axes>"
            ]
          },
          "metadata": {}
        }
      ]
    },
    {
      "cell_type": "code",
      "metadata": {
        "id": "IWuei2-w11Q0"
      },
      "source": [
        "def pt_trace(t):\n",
        "    # Traces the estimates generated by the algorithms in each iteration\n",
        "    i = 0\n",
        "    for algo in algos:\n",
        "        x, y = wseq[algo][:,0]\n",
        "        xdata[algo].append(x)\n",
        "        # print(xdata[algo])\n",
        "        ydata[algo].append(y)\n",
        "        axes.plot(xdata[algo], ydata[algo], color = c[i])\n",
        "        i += 1\n",
        "    # return line,\n",
        "\n",
        "# for algo in algos:\n",
        "anim = FuncAnimation(fig, pt_trace, frames = 1500, interval = 200)\n",
        "anim.save('trace_' + algo + '.htm', fps = 0.2, dpi = 200, writer = 'html')\n",
        "# anim.save('trace_' + algo +'.gif',writer='html')\n"
      ],
      "execution_count": null,
      "outputs": []
    }
  ]
}